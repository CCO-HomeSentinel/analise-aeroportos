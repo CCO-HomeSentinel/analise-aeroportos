{
 "cells": [
  {
   "cell_type": "code",
   "execution_count": null,
   "metadata": {},
   "outputs": [],
   "source": [
    "import pandas as pd\n",
    "from sqlalchemy import create_engine\n",
    "from dotenv import load_dotenv\n",
    "import os\n",
    "\n",
    "load_dotenv()"
   ]
  },
  {
   "cell_type": "code",
   "execution_count": null,
   "metadata": {},
   "outputs": [],
   "source": [
    "# Configurando a conexão com o banco de dados MySQL\n",
    "user = os.getenv('DB_USER')\n",
    "password = os.getenv('DB_PASS')\n",
    "host = os.getenv('DB_HOST')\n",
    "database = os.getenv('DB_NAME')\n",
    "\n",
    "# Criando a engine de conexão\n",
    "engine = create_engine(f'mysql+pymysql://{user}:{password}@{host}/{database}')"
   ]
  },
  {
   "cell_type": "code",
   "execution_count": null,
   "metadata": {},
   "outputs": [],
   "source": [
    "def read_and_save_csv(file_path, table_name):\n",
    "    df = pd.read_csv(file_path)\n",
    "    \n",
    "    df.to_sql(table_name, con=engine, if_exists='replace', index=False)\n",
    "    print(f'Tabela {table_name} criada com sucesso.')\n",
    "\n",
    "csv_files = {\n",
    "    'output/dim_aeroporto.csv': 'dim_aeroporto',\n",
    "    'output/dim_cidade.csv': 'dim_cidade',\n",
    "    'output/dim_data.csv': 'dim_data',\n",
    "    'output/dim_empresa_aerea.csv': 'dim_empresa_aerea',\n",
    "    'output/dim_estado.csv': 'dim_estado',\n",
    "    'output/fato_reclamacao.csv': 'fato_reclamacao',\n",
    "    'output/fato_voo.csv': 'fato_voo'\n",
    "}\n",
    "\n",
    "# Iterando sobre os arquivos CSV e salvando no banco de dados\n",
    "for file_path, table_name in csv_files.items():\n",
    "    read_and_save_csv(file_path, table_name)"
   ]
  }
 ],
 "metadata": {
  "language_info": {
   "name": "python"
  }
 },
 "nbformat": 4,
 "nbformat_minor": 2
}
